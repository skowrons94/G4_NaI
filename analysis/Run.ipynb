{
 "cells": [
  {
   "cell_type": "code",
   "execution_count": 1,
   "metadata": {},
   "outputs": [],
   "source": [
    "import os\n",
    "from tqdm import tqdm\n",
    "\n",
    "# Check if plot direcoty exists, if not create it\n",
    "if not os.path.exists('poutput'):\n",
    "    os.makedirs('output')"
   ]
  },
  {
   "cell_type": "code",
   "execution_count": 2,
   "metadata": {},
   "outputs": [
    {
     "name": "stderr",
     "output_type": "stream",
     "text": [
      "  0%|          | 0/6 [00:00<?, ?it/s]sh: line 1: 34596 Segmentation fault: 11  ./rdecay01 mac/40K.in > /dev/null 2>&1\n",
      " 17%|█▋        | 1/6 [00:04<00:22,  4.50s/it]sh: line 1: 34641 Segmentation fault: 11  ./rdecay01 mac/210Pb.in > /dev/null 2>&1\n",
      " 33%|███▎      | 2/6 [00:12<00:27,  6.85s/it]sh: line 1: 34700 Segmentation fault: 11  ./rdecay01 mac/222Ra.in > /dev/null 2>&1\n",
      " 50%|█████     | 3/6 [00:40<00:48, 16.23s/it]sh: line 1: 34891 Segmentation fault: 11  ./rdecay01 mac/228Th.in > /dev/null 2>&1\n",
      " 67%|██████▋   | 4/6 [01:02<00:37, 18.67s/it]sh: line 1: 35056 Segmentation fault: 11  ./rdecay01 mac/232Th.in > /dev/null 2>&1\n",
      " 83%|████████▎ | 5/6 [01:07<00:13, 13.78s/it]sh: line 1: 35087 Segmentation fault: 11  ./rdecay01 mac/238U.in > /dev/null 2>&1\n",
      "100%|██████████| 6/6 [01:52<00:00, 18.78s/it]\n"
     ]
    }
   ],
   "source": [
    "# Clear output folder\n",
    "os.system('rm output/* >/dev/null 2>&1')\n",
    "\n",
    "sources = [\"40K.in\", \"210Pb.in\", \"222Ra.in\", \"228Th.in\", \"232Th.in\", \"238U.in\"]\n",
    "\n",
    "for source in tqdm(sources):\n",
    "    \n",
    "    # Run the simulation (ignore the output)\n",
    "    os.system('./rdecay01 mac/{} >/dev/null 2>&1'.format(source))\n",
    "\n",
    "    # Move the file that contains \"_t0.root\" to the output folder\n",
    "    os.system('mv {}.root output/{}.root'.format(source.split('.')[0], source.split('.')[0]))"
   ]
  }
 ],
 "metadata": {
  "kernelspec": {
   "display_name": "base",
   "language": "python",
   "name": "python3"
  },
  "language_info": {
   "codemirror_mode": {
    "name": "ipython",
    "version": 3
   },
   "file_extension": ".py",
   "mimetype": "text/x-python",
   "name": "python",
   "nbconvert_exporter": "python",
   "pygments_lexer": "ipython3",
   "version": "3.11.6"
  }
 },
 "nbformat": 4,
 "nbformat_minor": 2
}
